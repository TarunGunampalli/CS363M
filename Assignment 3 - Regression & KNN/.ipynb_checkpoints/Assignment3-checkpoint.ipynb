{
 "cells": [
  {
   "cell_type": "markdown",
   "id": "0fd33643",
   "metadata": {},
   "source": [
    "### This assignment may be worked individually or in pairs. \n",
    "### Enter your name/names here:"
   ]
  },
  {
   "cell_type": "code",
   "execution_count": 2,
   "id": "2649232b",
   "metadata": {},
   "outputs": [],
   "source": [
    "# Name(s) here\n",
    "# Tarun Gunampalli - tg25522\n",
    "# Joey Huang - jth3785"
   ]
  },
  {
   "cell_type": "code",
   "execution_count": 3,
   "id": "449cbdc6",
   "metadata": {},
   "outputs": [],
   "source": [
    "# !pip install matplotlib\n",
    "# !pip install scikit-learn"
   ]
  },
  {
   "cell_type": "code",
   "execution_count": 4,
   "id": "ab1fe226",
   "metadata": {},
   "outputs": [],
   "source": [
    "# headers\n",
    "import pandas as pd\n",
    "import matplotlib.pyplot as plt\n",
    "import numpy as np"
   ]
  },
  {
   "cell_type": "code",
   "execution_count": 5,
   "id": "cc9c4481",
   "metadata": {},
   "outputs": [],
   "source": [
    "# function to calculate adjusted r2\n",
    "def get_adj_r2(r2, n, p):\n",
    "    return (1-(1-r2)*((n-1)/(n-p-1)))"
   ]
  },
  {
   "cell_type": "markdown",
   "id": "7a7c7806",
   "metadata": {},
   "source": [
    "# Assignment 2: Regression and KNN classifier"
   ]
  },
  {
   "cell_type": "markdown",
   "id": "5bccf477",
   "metadata": {},
   "source": [
    "## Part 1: Regression with scikit-learn\n",
    "\n",
    "In this part of the assignment, you will fit a regression model to an insurance dataset using the scikit-learn package. \n",
    "\n",
    "The insurance company would like to be able to estimate the annual medical expenditures they will need to pay for any customer, based on the customer's age, sex, BMI, # of children, whether they are a smoker, and their region of residence. \n",
    "\n",
    "Estimates from this model can be used to then determine how much to charge each customer for insurance (the more we think you'll cost us, the more we will charge you)."
   ]
  },
  {
   "cell_type": "markdown",
   "id": "8bb47879",
   "metadata": {},
   "source": [
    "**Data Prep**\n",
    "\n",
    "Q1. Read the dataset from 'medical-charges.txt' into a Pandas Dataframe. Display the head of the dataset. There should be 1138 rows and 7 columns. The target column (y) is the `charges` column."
   ]
  },
  {
   "cell_type": "code",
   "execution_count": 6,
   "id": "589c05de",
   "metadata": {
    "scrolled": true
   },
   "outputs": [
    {
     "data": {
      "text/html": [
       "<div>\n",
       "<style scoped>\n",
       "    .dataframe tbody tr th:only-of-type {\n",
       "        vertical-align: middle;\n",
       "    }\n",
       "\n",
       "    .dataframe tbody tr th {\n",
       "        vertical-align: top;\n",
       "    }\n",
       "\n",
       "    .dataframe thead th {\n",
       "        text-align: right;\n",
       "    }\n",
       "</style>\n",
       "<table border=\"1\" class=\"dataframe\">\n",
       "  <thead>\n",
       "    <tr style=\"text-align: right;\">\n",
       "      <th></th>\n",
       "      <th>age</th>\n",
       "      <th>sex</th>\n",
       "      <th>bmi</th>\n",
       "      <th>children</th>\n",
       "      <th>smoker</th>\n",
       "      <th>region</th>\n",
       "      <th>charges</th>\n",
       "    </tr>\n",
       "  </thead>\n",
       "  <tbody>\n",
       "    <tr>\n",
       "      <th>0</th>\n",
       "      <td>19</td>\n",
       "      <td>female</td>\n",
       "      <td>27.900</td>\n",
       "      <td>0</td>\n",
       "      <td>yes</td>\n",
       "      <td>southwest</td>\n",
       "      <td>16884.92400</td>\n",
       "    </tr>\n",
       "    <tr>\n",
       "      <th>1</th>\n",
       "      <td>18</td>\n",
       "      <td>male</td>\n",
       "      <td>33.770</td>\n",
       "      <td>1</td>\n",
       "      <td>no</td>\n",
       "      <td>southeast</td>\n",
       "      <td>1725.55230</td>\n",
       "    </tr>\n",
       "    <tr>\n",
       "      <th>2</th>\n",
       "      <td>28</td>\n",
       "      <td>male</td>\n",
       "      <td>33.000</td>\n",
       "      <td>3</td>\n",
       "      <td>no</td>\n",
       "      <td>southeast</td>\n",
       "      <td>4449.46200</td>\n",
       "    </tr>\n",
       "    <tr>\n",
       "      <th>3</th>\n",
       "      <td>33</td>\n",
       "      <td>male</td>\n",
       "      <td>22.705</td>\n",
       "      <td>0</td>\n",
       "      <td>no</td>\n",
       "      <td>northwest</td>\n",
       "      <td>21984.47061</td>\n",
       "    </tr>\n",
       "    <tr>\n",
       "      <th>4</th>\n",
       "      <td>32</td>\n",
       "      <td>male</td>\n",
       "      <td>28.880</td>\n",
       "      <td>0</td>\n",
       "      <td>no</td>\n",
       "      <td>northwest</td>\n",
       "      <td>3866.85520</td>\n",
       "    </tr>\n",
       "  </tbody>\n",
       "</table>\n",
       "</div>"
      ],
      "text/plain": [
       "   age     sex     bmi  children smoker     region      charges\n",
       "0   19  female  27.900         0    yes  southwest  16884.92400\n",
       "1   18    male  33.770         1     no  southeast   1725.55230\n",
       "2   28    male  33.000         3     no  southeast   4449.46200\n",
       "3   33    male  22.705         0     no  northwest  21984.47061\n",
       "4   32    male  28.880         0     no  northwest   3866.85520"
      ]
     },
     "execution_count": 6,
     "metadata": {},
     "output_type": "execute_result"
    }
   ],
   "source": [
    "# your code goes here\n",
    "mc_data = pd.read_csv('medical-charges.txt')\n",
    "mc_data.head()"
   ]
  },
  {
   "cell_type": "markdown",
   "id": "3043bb91",
   "metadata": {},
   "source": [
    "Q2. Notice that there are several categorical columns. You'll need to transform these to be able to do regression. Since `sex` and `smoker` are binary in this dataset, let's do them differently than `region` which has 4 options.\n",
    "\n",
    "* Use the Pandas [get_dummies()](https://pandas.pydata.org/docs/reference/api/pandas.get_dummies.html) function to one-hot-encode `sex` and `smoker`. \n",
    "* Since these features are binary, we do not need to create two columns for each of them (i.e. we do not need both smoker_yes and smoker_no - just having a smoker_yes column will be sufficient), so use the `drop_first` parameter of get_dummies to create only a `smoker_yes` and a `sex_male` column. \n",
    "* Display the head of the dataframe."
   ]
  },
  {
   "cell_type": "code",
   "execution_count": 7,
   "id": "0484464d",
   "metadata": {
    "scrolled": false
   },
   "outputs": [
    {
     "data": {
      "text/html": [
       "<div>\n",
       "<style scoped>\n",
       "    .dataframe tbody tr th:only-of-type {\n",
       "        vertical-align: middle;\n",
       "    }\n",
       "\n",
       "    .dataframe tbody tr th {\n",
       "        vertical-align: top;\n",
       "    }\n",
       "\n",
       "    .dataframe thead th {\n",
       "        text-align: right;\n",
       "    }\n",
       "</style>\n",
       "<table border=\"1\" class=\"dataframe\">\n",
       "  <thead>\n",
       "    <tr style=\"text-align: right;\">\n",
       "      <th></th>\n",
       "      <th>age</th>\n",
       "      <th>bmi</th>\n",
       "      <th>children</th>\n",
       "      <th>region</th>\n",
       "      <th>charges</th>\n",
       "      <th>sex_male</th>\n",
       "      <th>smoker_yes</th>\n",
       "    </tr>\n",
       "  </thead>\n",
       "  <tbody>\n",
       "    <tr>\n",
       "      <th>0</th>\n",
       "      <td>19</td>\n",
       "      <td>27.900</td>\n",
       "      <td>0</td>\n",
       "      <td>southwest</td>\n",
       "      <td>16884.92400</td>\n",
       "      <td>0</td>\n",
       "      <td>1</td>\n",
       "    </tr>\n",
       "    <tr>\n",
       "      <th>1</th>\n",
       "      <td>18</td>\n",
       "      <td>33.770</td>\n",
       "      <td>1</td>\n",
       "      <td>southeast</td>\n",
       "      <td>1725.55230</td>\n",
       "      <td>1</td>\n",
       "      <td>0</td>\n",
       "    </tr>\n",
       "    <tr>\n",
       "      <th>2</th>\n",
       "      <td>28</td>\n",
       "      <td>33.000</td>\n",
       "      <td>3</td>\n",
       "      <td>southeast</td>\n",
       "      <td>4449.46200</td>\n",
       "      <td>1</td>\n",
       "      <td>0</td>\n",
       "    </tr>\n",
       "    <tr>\n",
       "      <th>3</th>\n",
       "      <td>33</td>\n",
       "      <td>22.705</td>\n",
       "      <td>0</td>\n",
       "      <td>northwest</td>\n",
       "      <td>21984.47061</td>\n",
       "      <td>1</td>\n",
       "      <td>0</td>\n",
       "    </tr>\n",
       "    <tr>\n",
       "      <th>4</th>\n",
       "      <td>32</td>\n",
       "      <td>28.880</td>\n",
       "      <td>0</td>\n",
       "      <td>northwest</td>\n",
       "      <td>3866.85520</td>\n",
       "      <td>1</td>\n",
       "      <td>0</td>\n",
       "    </tr>\n",
       "  </tbody>\n",
       "</table>\n",
       "</div>"
      ],
      "text/plain": [
       "   age     bmi  children     region      charges  sex_male  smoker_yes\n",
       "0   19  27.900         0  southwest  16884.92400         0           1\n",
       "1   18  33.770         1  southeast   1725.55230         1           0\n",
       "2   28  33.000         3  southeast   4449.46200         1           0\n",
       "3   33  22.705         0  northwest  21984.47061         1           0\n",
       "4   32  28.880         0  northwest   3866.85520         1           0"
      ]
     },
     "execution_count": 7,
     "metadata": {},
     "output_type": "execute_result"
    }
   ],
   "source": [
    "# your code goes here\n",
    "mc_data = pd.get_dummies(mc_data, columns=['sex', 'smoker'], drop_first=True)\n",
    "mc_data.head()"
   ]
  },
  {
   "cell_type": "markdown",
   "id": "11737757",
   "metadata": {},
   "source": [
    "Q3. Now one-hot encode the `region` feature by again using `get_dummies()`, but this time, even though we could drop one column, let's go ahead and explicitly keep all 4 values as columns (i.e. drop_first should be set to False). Display the head of the resulting dataframe."
   ]
  },
  {
   "cell_type": "code",
   "execution_count": 8,
   "id": "e0b43b2c",
   "metadata": {
    "scrolled": true
   },
   "outputs": [
    {
     "data": {
      "text/html": [
       "<div>\n",
       "<style scoped>\n",
       "    .dataframe tbody tr th:only-of-type {\n",
       "        vertical-align: middle;\n",
       "    }\n",
       "\n",
       "    .dataframe tbody tr th {\n",
       "        vertical-align: top;\n",
       "    }\n",
       "\n",
       "    .dataframe thead th {\n",
       "        text-align: right;\n",
       "    }\n",
       "</style>\n",
       "<table border=\"1\" class=\"dataframe\">\n",
       "  <thead>\n",
       "    <tr style=\"text-align: right;\">\n",
       "      <th></th>\n",
       "      <th>age</th>\n",
       "      <th>bmi</th>\n",
       "      <th>children</th>\n",
       "      <th>charges</th>\n",
       "      <th>sex_male</th>\n",
       "      <th>smoker_yes</th>\n",
       "      <th>region_northeast</th>\n",
       "      <th>region_northwest</th>\n",
       "      <th>region_southeast</th>\n",
       "      <th>region_southwest</th>\n",
       "    </tr>\n",
       "  </thead>\n",
       "  <tbody>\n",
       "    <tr>\n",
       "      <th>0</th>\n",
       "      <td>19</td>\n",
       "      <td>27.900</td>\n",
       "      <td>0</td>\n",
       "      <td>16884.92400</td>\n",
       "      <td>0</td>\n",
       "      <td>1</td>\n",
       "      <td>0</td>\n",
       "      <td>0</td>\n",
       "      <td>0</td>\n",
       "      <td>1</td>\n",
       "    </tr>\n",
       "    <tr>\n",
       "      <th>1</th>\n",
       "      <td>18</td>\n",
       "      <td>33.770</td>\n",
       "      <td>1</td>\n",
       "      <td>1725.55230</td>\n",
       "      <td>1</td>\n",
       "      <td>0</td>\n",
       "      <td>0</td>\n",
       "      <td>0</td>\n",
       "      <td>1</td>\n",
       "      <td>0</td>\n",
       "    </tr>\n",
       "    <tr>\n",
       "      <th>2</th>\n",
       "      <td>28</td>\n",
       "      <td>33.000</td>\n",
       "      <td>3</td>\n",
       "      <td>4449.46200</td>\n",
       "      <td>1</td>\n",
       "      <td>0</td>\n",
       "      <td>0</td>\n",
       "      <td>0</td>\n",
       "      <td>1</td>\n",
       "      <td>0</td>\n",
       "    </tr>\n",
       "    <tr>\n",
       "      <th>3</th>\n",
       "      <td>33</td>\n",
       "      <td>22.705</td>\n",
       "      <td>0</td>\n",
       "      <td>21984.47061</td>\n",
       "      <td>1</td>\n",
       "      <td>0</td>\n",
       "      <td>0</td>\n",
       "      <td>1</td>\n",
       "      <td>0</td>\n",
       "      <td>0</td>\n",
       "    </tr>\n",
       "    <tr>\n",
       "      <th>4</th>\n",
       "      <td>32</td>\n",
       "      <td>28.880</td>\n",
       "      <td>0</td>\n",
       "      <td>3866.85520</td>\n",
       "      <td>1</td>\n",
       "      <td>0</td>\n",
       "      <td>0</td>\n",
       "      <td>1</td>\n",
       "      <td>0</td>\n",
       "      <td>0</td>\n",
       "    </tr>\n",
       "  </tbody>\n",
       "</table>\n",
       "</div>"
      ],
      "text/plain": [
       "   age     bmi  children      charges  sex_male  smoker_yes  region_northeast  \\\n",
       "0   19  27.900         0  16884.92400         0           1                 0   \n",
       "1   18  33.770         1   1725.55230         1           0                 0   \n",
       "2   28  33.000         3   4449.46200         1           0                 0   \n",
       "3   33  22.705         0  21984.47061         1           0                 0   \n",
       "4   32  28.880         0   3866.85520         1           0                 0   \n",
       "\n",
       "   region_northwest  region_southeast  region_southwest  \n",
       "0                 0                 0                 1  \n",
       "1                 0                 1                 0  \n",
       "2                 0                 1                 0  \n",
       "3                 1                 0                 0  \n",
       "4                 1                 0                 0  "
      ]
     },
     "execution_count": 8,
     "metadata": {},
     "output_type": "execute_result"
    }
   ],
   "source": [
    "# your code goes here\n",
    "mc_data = pd.get_dummies(mc_data, columns=['region'])\n",
    "mc_data.head()"
   ]
  },
  {
   "cell_type": "markdown",
   "id": "38a13dc1",
   "metadata": {},
   "source": [
    "Q4. An interesting thing to check with regression problems is whether any of the individual features correlate very strongly with the label. Use the `corr()` method on the dataframe to take a look at this.\n",
    "\n",
    "Answer as a comment: Do you see any features with a strong correlation to the label?"
   ]
  },
  {
   "cell_type": "code",
   "execution_count": 9,
   "id": "6ad660fd",
   "metadata": {
    "scrolled": true
   },
   "outputs": [
    {
     "name": "stdout",
     "output_type": "stream",
     "text": [
      "age 0.2990081933306478\n",
      "bmi 0.19834096883362887\n",
      "children 0.06799822684790487\n",
      "charges 1.0\n",
      "sex_male 0.05729206220202533\n",
      "smoker_yes 0.7872514304984778\n",
      "region_northeast 0.006348771280156066\n",
      "region_northwest -0.039904864040438\n",
      "region_southeast 0.07398155156575979\n",
      "region_southwest -0.043210028991684725\n"
     ]
    }
   ],
   "source": [
    "# your code goes here\n",
    "for (cName, cData) in mc_data.items():\n",
    "    print(cName, mc_data['charges'].corr(cData))"
   ]
  },
  {
   "cell_type": "code",
   "execution_count": 10,
   "id": "86c8a875",
   "metadata": {},
   "outputs": [],
   "source": [
    "# We can see that being a smoker has a high correlation with the label of medical charges"
   ]
  },
  {
   "cell_type": "markdown",
   "id": "4b86aa6a",
   "metadata": {},
   "source": [
    "Q5. Create a plot to show the difference in charges between the smokers and the non-smokers. "
   ]
  },
  {
   "cell_type": "code",
   "execution_count": 11,
   "id": "2f3a1ce1",
   "metadata": {},
   "outputs": [
    {
     "data": {
      "text/plain": [
       "<matplotlib.legend.Legend at 0x2c59ffc2320>"
      ]
     },
     "execution_count": 11,
     "metadata": {},
     "output_type": "execute_result"
    },
    {
     "data": {
      "image/png": "[encoded data removed]",
      "text/plain": [
       "<Figure size 432x288 with 1 Axes>"
      ]
     },
     "metadata": {
      "needs_background": "light"
     },
     "output_type": "display_data"
    }
   ],
   "source": [
    "# your code goes here\n",
    "positions = [[d['charges'] for i, d in mc_data.iterrows() if d['smoker_yes'] == 1], [d['charges'] for i, d in mc_data.iterrows() if d['smoker_yes'] == 0]]\n",
    "plt.eventplot(positions=positions, colors=['r', 'b'], linelengths=0.4)\n",
    "plt.legend(['Smoker', 'Non-Smoker'])"
   ]
  },
  {
   "cell_type": "markdown",
   "id": "5ece359c",
   "metadata": {},
   "source": [
    "Q6. Let's explore the relationship between `age` and `charges`. Create a scatter plot of all data points to show age vs charges. \n",
    "\n",
    "Answer as a comment: What do you notice about the nature of this relationship?"
   ]
  },
  {
   "cell_type": "code",
   "execution_count": 12,
   "id": "78a4ddce",
   "metadata": {},
   "outputs": [
    {
     "data": {
      "text/plain": [
       "<AxesSubplot: xlabel='age', ylabel='charges'>"
      ]
     },
     "execution_count": 12,
     "metadata": {},
     "output_type": "execute_result"
    },
    {
     "data": {
      "image/png": "[encoded data removed]",
      "text/plain": [
       "<Figure size 432x288 with 1 Axes>"
      ]
     },
     "metadata": {
      "needs_background": "light"
     },
     "output_type": "display_data"
    }
   ],
   "source": [
    "# your code goes here\n",
    "mc_data.plot(kind='scatter', x='age', y='charges')"
   ]
  },
  {
   "cell_type": "code",
   "execution_count": 13,
   "id": "458b24d3",
   "metadata": {},
   "outputs": [],
   "source": [
    "# We can see that there are 3 separate groups in the plot between age and charges, and as age increases in each group,\n",
    "# the charges also increases within each group"
   ]
  },
  {
   "cell_type": "markdown",
   "id": "ce9b1624",
   "metadata": {},
   "source": [
    "#### Simple Linear Regression\n",
    "**Fit a simple linear regression model to predict `charges` from `age`.**\n",
    "\n",
    "Q7. \n",
    "* Grab the `age` column from the dataframe and call it something like `x`.\n",
    "* Grab the `charges` column from the dataframe and call it something like `y`.\n",
    "* When doing simple linear regression (one feature), you need to convert the features from a Series to a list of lists. You can do this by doing `x = x.values.reshape(-1,1)`, where the (-1,1) means (all rows, one column). \n",
    "* Do the same to the labels (`y = y.values.reshape(-1,1)`). \n",
    "* Verify that you have a list of lists for both x and y."
   ]
  },
  {
   "cell_type": "code",
   "execution_count": 14,
   "id": "a012a960",
   "metadata": {
    "scrolled": true
   },
   "outputs": [
    {
     "name": "stdout",
     "output_type": "stream",
     "text": [
      "(1338, 1) (1338, 1)\n"
     ]
    }
   ],
   "source": [
    "# your code goes here\n",
    "x = mc_data['age'].values.reshape(-1, 1)\n",
    "y = mc_data['charges'].values.reshape(-1, 1)\n",
    "print(np.asarray(x).shape, np.asarray(y).shape)"
   ]
  },
  {
   "cell_type": "markdown",
   "id": "08424490",
   "metadata": {},
   "source": [
    "**Using the holdout method**\n",
    "\n",
    "Q8. Use [sklearn.model_selection.train_test_split](https://scikit-learn.org/stable/modules/generated/sklearn.model_selection.train_test_split.html) to split your dataset into training and test sets. Do an 80%-20% split. Display how many records are in the training set and how many are in the test set. Set the random_state argument to your favorite number."
   ]
  },
  {
   "cell_type": "code",
   "execution_count": 15,
   "id": "e9c24d71",
   "metadata": {
    "scrolled": true
   },
   "outputs": [],
   "source": [
    "from sklearn.model_selection import train_test_split\n",
    "\n",
    "# your code goes here\n",
    "x_train, x_test, y_train, y_test = train_test_split(x, y, test_size=0.2, train_size=0.8, random_state=17546)"
   ]
  },
  {
   "cell_type": "markdown",
   "id": "cffda89c",
   "metadata": {},
   "source": [
    "Q9. \n",
    "* Create a [sklearn.linear_model.LinearRegression](https://scikit-learn.org/stable/modules/generated/sklearn.linear_model.LinearRegression.html) object. \n",
    "* Call `fit` on it and pass in the training set.\n",
    "* Print the slope and the intercept of the equation with the `.coef_` and `.intercept_` attributes. "
   ]
  },
  {
   "cell_type": "code",
   "execution_count": 16,
   "id": "caa8b841",
   "metadata": {},
   "outputs": [
    {
     "name": "stdout",
     "output_type": "stream",
     "text": [
      "[[258.54426684]] [3024.8406468]\n"
     ]
    }
   ],
   "source": [
    "from sklearn.linear_model import LinearRegression\n",
    "\n",
    "# your code goes here\n",
    "lr = LinearRegression()\n",
    "lr.fit(x_train, y_train)\n",
    "print(lr.coef_, lr.intercept_)"
   ]
  },
  {
   "cell_type": "markdown",
   "id": "c0695225",
   "metadata": {},
   "source": [
    "Q10. Now that you've fit the model on the training set, you can evaluate it on the test set. Call `predict` on the linear regression object and pass in the test set. Save the return value - these are all of the predicted values under the model for the test set. \n",
    "\n",
    "Compute some metrics to see how well this model fits the test data. Use `sklearn.metrics` to print out the MAE, MSE, RMSE, and R2 for the test set under this model. Remember that you have the actual y values for your test set, up in Q8.  "
   ]
  },
  {
   "cell_type": "code",
   "execution_count": 17,
   "id": "fe8b56fd",
   "metadata": {},
   "outputs": [
    {
     "name": "stdout",
     "output_type": "stream",
     "text": [
      "Mean Absolute Error = 9236.318572615335\n",
      "Mean Squared Error = 138108983.82293403\n",
      "Root Mean Squared Error = 11751.977868551916\n",
      "R2 = 0.0859195898524745\n"
     ]
    }
   ],
   "source": [
    "import sklearn.metrics as metrics\n",
    "\n",
    "# your code goes here\n",
    "y_test_preds = lr.predict(x_test)\n",
    "print('Mean Absolute Error =', metrics.mean_absolute_error(y_test, y_test_preds))\n",
    "print('Mean Squared Error =', metrics.mean_squared_error(y_test, y_test_preds))\n",
    "print('Root Mean Squared Error =', metrics.mean_squared_error(y_test, y_test_preds, squared=False))\n",
    "print('R2 =', metrics.r2_score(y_test, y_test_preds))"
   ]
  },
  {
   "cell_type": "markdown",
   "id": "cb8c799f",
   "metadata": {},
   "source": [
    "Q11. Let's see what the best fit line looks like with the test data. Scatter-plot the test data (x_test, y_test). Then line-plot the model predictions for the test data (x_test, y_test_preds). "
   ]
  },
  {
   "cell_type": "code",
   "execution_count": 18,
   "id": "2b64976f",
   "metadata": {},
   "outputs": [
    {
     "data": {
      "text/plain": [
       "[<matplotlib.lines.Line2D at 0x2c5c2345030>]"
      ]
     },
     "execution_count": 18,
     "metadata": {},
     "output_type": "execute_result"
    },
    {
     "data": {
      "image/png": "[encoded data removed]",
      "text/plain": [
       "<Figure size 432x288 with 1 Axes>"
      ]
     },
     "metadata": {
      "needs_background": "light"
     },
     "output_type": "display_data"
    }
   ],
   "source": [
    "# your code goes here\n",
    "plt.scatter(x=x_test, y=y_test, color='green')\n",
    "plt.plot(x_test, y_test_preds, color='blue')"
   ]
  },
  {
   "cell_type": "markdown",
   "id": "308eb6bf",
   "metadata": {},
   "source": [
    "Q12. Now, go back up to your Q8, change the random_state to a different number, and re-run Q9, Q10, Q11. \n",
    "\n",
    "Answer as a comment: What happened and why?"
   ]
  },
  {
   "cell_type": "code",
   "execution_count": 19,
   "id": "82a24492",
   "metadata": {},
   "outputs": [],
   "source": [
    "# answer as a comment here\n",
    "# The plot of the test points changes quite a bit between different runs as the train_test_split function\n",
    "# is creating different splits each time it is run with a new random_state value\n",
    "# The best fit line does not change much as it is an aggregate of the random points in the training set which is\n",
    "# less susceptible to change with random runs"
   ]
  },
  {
   "cell_type": "markdown",
   "id": "99d04b36",
   "metadata": {},
   "source": [
    "**Using cross-validation**\n",
    "\n",
    "Q13. Use `sklearn.model_selection.cross_val_score` to perform 5-fold cross validation on a simple linear regression model. \n",
    "\n",
    "You will pass the FULL dataset (x and y from before the train/test split in Q8) into `cross_val_score` which will automatically divide it into the number of folds you tell it to, fit a linear regression model to the training set for each fold, and test it on the test set for each fold. It will return a numpy array with the R2 on the test set for each fold. Average these R2 scores to print out the generalization estimate of the model.\n",
    "\n",
    "On average, after 5 trials with 5 different test sets, this is how well we think a linear regression of using `age` to predict `charges` will work. "
   ]
  },
  {
   "cell_type": "code",
   "execution_count": 20,
   "id": "c5b417e6",
   "metadata": {},
   "outputs": [
    {
     "name": "stdout",
     "output_type": "stream",
     "text": [
      "R2 = 0.08821241573294034\n"
     ]
    }
   ],
   "source": [
    "from sklearn.model_selection import cross_val_score\n",
    "\n",
    "# your code goes here\n",
    "r2_scores = cross_val_score(lr, x, y)\n",
    "average_r2 = np.average(r2_scores)\n",
    "print(\"R2 =\", average_r2)"
   ]
  },
  {
   "cell_type": "markdown",
   "id": "eed2a22c",
   "metadata": {},
   "source": [
    "#### Multiple Linear Regression\n",
    "**Fit a multiple linear regression model to predict `charges` from `age` and `smoker`.**"
   ]
  },
  {
   "cell_type": "markdown",
   "id": "2b3b2aa1",
   "metadata": {},
   "source": [
    "Q14. Now let's see if we can get a better model by including another feature.\n",
    "* From the one-hot-encoded dataframe (the result of Q3), grab both the `age` and `smoker_yes` columns. Call it something like x. \n",
    "* (No need to call a reshape this time, since it is multi-dimensional data now.)\n",
    "* You already have the y's.\n",
    "* Create a new `sklearn.linear_model.LinearRegression` object. (Or you can re-use the one you already have.)\n",
    "* Pass it all into a `sklearn.model_selection.cross_val_score` with a 5-fold CV.\n",
    "* Print out the average R2.\n",
    "* Once we get into **multiple** linear regression, we should not use R2, we should instead use adjusted-R2. Use the provided (at the top of the file) `get_adj_R2()` function to print out the adjusted R2. (Note, this value will be very close to the R2 because our `n` is large and our `p` is small.)\n",
    "\n",
    "Answer as a comment: What happens when you include `smoker_yes`?"
   ]
  },
  {
   "cell_type": "code",
   "execution_count": 21,
   "id": "6c1db535",
   "metadata": {},
   "outputs": [
    {
     "name": "stdout",
     "output_type": "stream",
     "text": [
      "R2 = 0.7191692504028052\n",
      "Adjusted R2 = 0.7187485301786896\n"
     ]
    }
   ],
   "source": [
    "# your code goes here\n",
    "x = mc_data[['age', 'smoker_yes']]\n",
    "r2_scores = cross_val_score(lr, x, y)\n",
    "average_r2 = np.average(r2_scores)\n",
    "print(\"R2 =\", average_r2)\n",
    "adj_r2 = get_adj_r2(average_r2, len(x), len(x.columns))\n",
    "print(\"Adjusted R2 =\", adj_r2)"
   ]
  },
  {
   "cell_type": "markdown",
   "id": "e7bdb411",
   "metadata": {},
   "source": [
    "Q15. Let's go one more step and see if including ALL of our features is even better at predicting the `charges` than using just `age` and `smoker`.\n",
    "\n",
    "* From the one-hot-encoded dataframe (the result of Q3), grab all the features, but NOT the target. Call it something like x.\n",
    "* (No need to call a reshape this time, since it is multi-dimensional data now.)\n",
    "* You already have the y's.\n",
    "* Create a new sklearn.linear_model.LinearRegression object. (Or you can re-use the one you already have.)\n",
    "* Pass it all into a sklearn.model_selection.cross_val_score with a 5-fold CV.\n",
    "* Print out the average R2 and the adjusted R2."
   ]
  },
  {
   "cell_type": "code",
   "execution_count": 22,
   "id": "4dbef0e5",
   "metadata": {
    "scrolled": true
   },
   "outputs": [
    {
     "name": "stdout",
     "output_type": "stream",
     "text": [
      "R2 = 0.746861624347374\n",
      "Adjusted R2 = 0.7451460781268366\n"
     ]
    }
   ],
   "source": [
    "# your code goes here\n",
    "x = mc_data.drop('charges', axis=1)\n",
    "r2_scores = cross_val_score(lr, x, y)\n",
    "average_r2 = np.average(r2_scores)\n",
    "print(\"R2 =\", average_r2)\n",
    "adj_r2 = get_adj_r2(average_r2, len(x), len(x.columns))\n",
    "print(\"Adjusted R2 =\", adj_r2)"
   ]
  },
  {
   "cell_type": "markdown",
   "id": "f3c60daf",
   "metadata": {},
   "source": [
    "Q16. Build the final model on the entire dataset. \n",
    "* You should already have your x from the previous question (Q15).\n",
    "* You already have the y's.\n",
    "* Create a new `sklearn.linear_model.LinearRegression` object, or you can re-use the one you already have.\n",
    "* Call `fit` and pass in all the data (x, y).\n",
    "* Print out the coefficients and the intercept of the fitted model. The coefficients correspond to the the order in which the features are in the dataframe (x).\n",
    "\n",
    "This defines your multiple linear regression equation! "
   ]
  },
  {
   "cell_type": "code",
   "execution_count": 23,
   "id": "03cfb422",
   "metadata": {
    "scrolled": true
   },
   "outputs": [
    {
     "name": "stdout",
     "output_type": "stream",
     "text": [
      "[[  256.85635254   339.19345361   475.50054515  -131.3143594\n",
      "  23848.53454191   587.00923503   234.0453356   -448.01281436\n",
      "   -373.04175627]] [-12525.5478112]\n"
     ]
    }
   ],
   "source": [
    "# your code goes here\n",
    "lr.fit(x, y)\n",
    "print(lr.coef_, lr.intercept_)"
   ]
  },
  {
   "cell_type": "markdown",
   "id": "c08d42fc",
   "metadata": {},
   "source": [
    "## Part 2: K-Nearest Neighbors from scratch\n",
    "\n",
    "In this part of the assignment you'll implement the K-Nearest Neighbors (KNN) classification algorithm to classify patients as either having or not having diabetic retinopathy. For this task we'll be using the same Diabetic Retinopathy data set which was used in the previous assignment on decision trees. "
   ]
  },
  {
   "cell_type": "markdown",
   "id": "f04ffa20",
   "metadata": {},
   "source": [
    "You may use the following function to print a confusion matrix:"
   ]
  },
  {
   "cell_type": "code",
   "execution_count": 24,
   "id": "acc4cd14",
   "metadata": {},
   "outputs": [],
   "source": [
    "def print_confusion_matrix(TP, FN, FP, TN):\n",
    "    \n",
    "    table_data = [[TP,FN],[FP,TN]]\n",
    "    df = pd.DataFrame(table_data, columns =['Predicted 1','Predicted 0'])\n",
    "    df = df.rename(index={0: 'Actual 1', 1: 'Actual 0'})\n",
    "    display(df)"
   ]
  },
  {
   "cell_type": "code",
   "execution_count": 25,
   "id": "4eb2b554",
   "metadata": {},
   "outputs": [],
   "source": [
    "# you may use these constants if you want\n",
    "LABEL_COLUMN = 19\n",
    "BINARY_COLUMNS = {0,1,18}"
   ]
  },
  {
   "cell_type": "markdown",
   "id": "7edf52cf",
   "metadata": {},
   "source": [
    "Q1. Normalize the data so that each feature value lies between `[0-1]`.\n",
    "\n",
    "In class, we talked about why scaling the data is critical to KNN. We also talked about how data scaling should be done *inside the cross validataion loop*. This means that the scaling parameters should be based on the **training set only**, in order to prevent data leakage. Then the test data will need to be scaled, using the parameters found on the **training** data.\n",
    "\n",
    "Fill in the function to take in a training dataset and a test dataset and normalize them correctly. Return the normalized datasets.\n",
    "\n",
    "Caution: Return NEW datasets that have been normalized - do not normalize the datasets in-place, so that this can be run numerous times without altering the original data or normalizing already normalized data.\n",
    "\n",
    "Hint: When using dataframes, you can do this without a loop!"
   ]
  },
  {
   "cell_type": "code",
   "execution_count": 121,
   "id": "f2521ea4",
   "metadata": {},
   "outputs": [],
   "source": [
    "def normalize_data(train, test):\n",
    "    # your code goes here\n",
    "    train_norm = (train - train.min()) / (train.max() - train.min())\n",
    "    test_norm = (test - train.min()) / (train.max() - train.min())\n",
    "    return train_norm, test_norm"
   ]
  },
  {
   "cell_type": "markdown",
   "id": "acbcfd93",
   "metadata": {},
   "source": [
    "Q2. The distance calculation method is central to the KNN algorithm. In this assignment you'll be using the Euclidean distance. \n",
    "\n",
    "Implement a function that takes in one data point (as a list), and the training data (as a dataframe), and calculates the Euclidian distance from the single data point to each of the data points in the training data.\n",
    "\n",
    "You may return these however you want (or may add them to the dataframe?).\n",
    "\n",
    "Hint: \n",
    "For KNN, the distance calculations are the most time-consuming part of the algorithm. Even though computing Euclidian distance seems like a simple, and therefore quick, calculation, running it thousands of times, inside of a nested 5-fold cross-validation for example, can cause this algorithm to take a very long time to run, depending on your implementation. \n",
    "\n",
    "Remember, you almost never need to loop a Dataframe! Pandas DataFrames have been specifically optimized for fast operations on large datasets, by [vectorizing](https://www.quantifisolutions.com/vectorization-part-2-why-and-what) calculations across all rows at once.\n",
    "\n",
    "If you use a DataFrame, you should not write a loop to calculate each of the Euclidian distances one at a time. Look at [this post](https://stackoverflow.com/questions/46908388/find-euclidean-distance-from-a-point-to-rows-in-pandas-dataframe?rq=1) for more info.\n",
    "\n",
    "Caution: Be careful not to use the label in your distance calculation."
   ]
  },
  {
   "cell_type": "code",
   "execution_count": 136,
   "id": "8568727f",
   "metadata": {},
   "outputs": [],
   "source": [
    "def get_distances(point, df):\n",
    "    # your code goes here\n",
    "    distances = df.sub(point)\n",
    "    distances = np.sqrt(np.nansum(np.square(distances), axis=1))\n",
    "    return distances"
   ]
  },
  {
   "cell_type": "markdown",
   "id": "3e91c9c3",
   "metadata": {},
   "source": [
    "Q3. Build your KNN classifier.\n",
    "\n",
    "This function takes in a training set (as a dataframe), a test set (as a dataframe), and a k to use, and classifies all data points in the test set, using the data in the training set and the given k.\n",
    "\n",
    "It should return the predicted labels for the test set as a list.\n",
    "\n",
    "Caution: Remember to normalize your data before doing distance calculations."
   ]
  },
  {
   "cell_type": "code",
   "execution_count": 137,
   "id": "6330af96",
   "metadata": {},
   "outputs": [],
   "source": [
    "def run_knn(train_set, test_set, k):\n",
    "    # your code goes here\n",
    "    train_norm, test_norm = normalize_data(train_set, test_set)\n",
    "    train_norm_drop = train_norm.drop(LABEL_COLUMN, axis=1)\n",
    "    labels = []\n",
    "    for i, d in test_norm.iterrows():\n",
    "        train_norm['distances'] = get_distances(d.drop(LABEL_COLUMN), train_norm_drop)\n",
    "        neighbors = train_norm.nsmallest(k, columns='distances')\n",
    "        label = neighbors[LABEL_COLUMN].mode()[0]\n",
    "        labels.append(label)\n",
    "        train_norm.drop(columns='distances', inplace=True)\n",
    "    return labels"
   ]
  },
  {
   "cell_type": "markdown",
   "id": "b80cc7f6",
   "metadata": {},
   "source": [
    "Q4. Find the best value of k for this data. \n",
    "\n",
    "Try k ranging from 1 to 10 (odds only). For each k value, use a 5-fold cross validation to evaluate the accuracy with that k. In each fold of CV, divide your data into a training set and a validation set. Print out the best value of k and the accuracy achieved with that value. Return the best value of k. If there is a tie for best k, use the lowest of the k values.\n",
    "\n",
    "Hint: This is the *inner* loop of a nested cross validation."
   ]
  },
  {
   "cell_type": "code",
   "execution_count": 140,
   "id": "70de520e",
   "metadata": {},
   "outputs": [],
   "source": [
    "def get_accuracy(predicted_labels, test_set):\n",
    "    n = len(test_set)\n",
    "    correct_labels = test_set[LABEL_COLUMN]\n",
    "    \n",
    "    accuracy = (predicted_labels == correct_labels).sum() / n\n",
    "    TP = ((predicted_labels == correct_labels) & (correct_labels == 1)).sum()\n",
    "    TN = ((predicted_labels == correct_labels) & (correct_labels == 0)).sum()\n",
    "    FP = ((predicted_labels != correct_labels) & (correct_labels == 1)).sum()\n",
    "    FN = ((predicted_labels != correct_labels) & (correct_labels == 0)).sum()\n",
    "    return accuracy, TP, TN, FP, FN\n",
    "\n",
    "def find_best_k(data):\n",
    "    # your code goes here\n",
    "    best_accuracy = 0\n",
    "    best_k = None\n",
    "    for k in range(1, 11, 2):\n",
    "        total_acc = 0\n",
    "        for i in range(5):\n",
    "            test_start = int(len(data) * i / 5)\n",
    "            test_end = int(len(data) * (i + 1) / 5)\n",
    "            train_set = pd.concat([data[:test_start], data[test_end:]])\n",
    "            test_set = data[test_start:test_end]\n",
    "            predicted_labels = run_knn(train_set, test_set, k)\n",
    "            accuracy, TP, TN, FP, FN = get_accuracy(predicted_labels, test_set)\n",
    "            total_acc += accuracy\n",
    "        accuracy = total_acc / 5\n",
    "        if accuracy > best_accuracy or best_k is None:\n",
    "            best_accuracy = accuracy\n",
    "            best_k = k\n",
    "    print(\"\\tBest Accuracy =\", best_accuracy)\n",
    "    print(\"\\tBest k =\", best_k)\n",
    "    return best_k"
   ]
  },
  {
   "cell_type": "markdown",
   "id": "5da24b15",
   "metadata": {},
   "source": [
    "Q5. Now measure the accuracy of your classifier using 5-fold cross validation. \n",
    "\n",
    "In each fold of this CV, divide your data into a training set and a test set. The training set should get sent through your code for Q4, resulting in a value of k to use. Using that k, calculate an accuracy on the test set. You will average the accuracy over all 5 folds to obtain the final accuracy measurement. \n",
    "\n",
    "Print the accuracy, the confusion matrix, and the precision and recall for class label 1 (patients that have been diagnosed with the disease)."
   ]
  },
  {
   "cell_type": "code",
   "execution_count": 141,
   "id": "8a77f17b",
   "metadata": {},
   "outputs": [
    {
     "name": "stdout",
     "output_type": "stream",
     "text": [
      "Fold 1\n",
      "\tBest Accuracy = 0.6402173913043476\n",
      "\tBest k = 7\n",
      "\tTotal Accuracy = 0.6173913043478261\n",
      "\n",
      "Fold 2\n",
      "\tBest Accuracy = 0.6347826086956522\n",
      "\tBest k = 5\n",
      "\tTotal Accuracy = 0.6217391304347826\n",
      "\n",
      "Fold 3\n",
      "\tBest Accuracy = 0.6228260869565216\n",
      "\tBest k = 9\n",
      "\tTotal Accuracy = 0.6434782608695652\n",
      "\n",
      "Fold 4\n",
      "\tBest Accuracy = 0.6543478260869564\n",
      "\tBest k = 9\n",
      "\tTotal Accuracy = 0.5956521739130435\n",
      "\n",
      "Fold 5\n",
      "\tBest Accuracy = 0.6239130434782608\n",
      "\tBest k = 5\n",
      "\tTotal Accuracy = 0.6260869565217392\n",
      "\n",
      "\n",
      "Total time (seconds): 111.54787993431091\n",
      "Accuracy = 0.6208695652173912\n",
      "Precision = 0.5949245039655624\n",
      "Recall = 0.6605374004630484\n",
      "Confusion Matrix\n"
     ]
    },
    {
     "data": {
      "text/html": [
       "<div>\n",
       "<style scoped>\n",
       "    .dataframe tbody tr th:only-of-type {\n",
       "        vertical-align: middle;\n",
       "    }\n",
       "\n",
       "    .dataframe tbody tr th {\n",
       "        vertical-align: top;\n",
       "    }\n",
       "\n",
       "    .dataframe thead th {\n",
       "        text-align: right;\n",
       "    }\n",
       "</style>\n",
       "<table border=\"1\" class=\"dataframe\">\n",
       "  <thead>\n",
       "    <tr style=\"text-align: right;\">\n",
       "      <th></th>\n",
       "      <th>Predicted 1</th>\n",
       "      <th>Predicted 0</th>\n",
       "    </tr>\n",
       "  </thead>\n",
       "  <tbody>\n",
       "    <tr>\n",
       "      <th>Actual 1</th>\n",
       "      <td>363</td>\n",
       "      <td>188</td>\n",
       "    </tr>\n",
       "    <tr>\n",
       "      <th>Actual 0</th>\n",
       "      <td>248</td>\n",
       "      <td>351</td>\n",
       "    </tr>\n",
       "  </tbody>\n",
       "</table>\n",
       "</div>"
      ],
      "text/plain": [
       "          Predicted 1  Predicted 0\n",
       "Actual 1          363          188\n",
       "Actual 0          248          351"
      ]
     },
     "metadata": {},
     "output_type": "display_data"
    }
   ],
   "source": [
    "import time\n",
    "\n",
    "def run_CV():\n",
    "    # read in data\n",
    "    data = pd.read_csv('messidor_features.txt', header = None)\n",
    "\n",
    "    start_time = time.time()\n",
    "    \n",
    "    total_acc = 0\n",
    "    total_TP, total_TN, total_FP, total_FN = (0, 0, 0, 0)\n",
    "    precision, recall = (0, 0)\n",
    "    \n",
    "    # your code goes here\n",
    "    for i in range(5):\n",
    "        print('Fold', i + 1)\n",
    "        test_start = int(len(data) * i / 5)\n",
    "        test_end = int(len(data) * (i + 1) / 5)\n",
    "        train_set = pd.concat([data[:test_start], data[test_end:]])\n",
    "        test_set = data[test_start:test_end]\n",
    "        k = find_best_k(train_set)\n",
    "        predicted_labels = run_knn(train_set, test_set, k)\n",
    "        accuracy, TP, TN, FP, FN = get_accuracy(predicted_labels, test_set)\n",
    "        total_acc += accuracy\n",
    "        total_TP += TP\n",
    "        total_TN += TN\n",
    "        total_FP += FP\n",
    "        total_FN += FN\n",
    "        precision += TP / (TP + FP)\n",
    "        recall += TP / (TP + FN)\n",
    "        print('\\tTotal Accuracy =', accuracy)\n",
    "        print()\n",
    "    \n",
    "    accuracy = total_acc / 5\n",
    "    precision /= 5\n",
    "    recall /= 5\n",
    "\n",
    "    end_time = time.time()\n",
    "    print('\\nTotal time (seconds):', end_time - start_time)\n",
    "\n",
    "    print('Accuracy =', accuracy)\n",
    "    print('Precision =', precision)\n",
    "    print('Recall =', recall)\n",
    "    print('Confusion Matrix')\n",
    "    print_confusion_matrix(total_TP, total_FN, total_FP, total_TN)\n",
    "\n",
    "run_CV()"
   ]
  }
 ],
 "metadata": {
  "kernelspec": {
   "display_name": "Python [conda env:CS-363M]",
   "language": "python",
   "name": "conda-env-CS-363M-py"
  },
  "language_info": {
   "codemirror_mode": {
    "name": "ipython",
    "version": 3
   },
   "file_extension": ".py",
   "mimetype": "text/x-python",
   "name": "python",
   "nbconvert_exporter": "python",
   "pygments_lexer": "ipython3",
   "version": "3.10.9"
  }
 },
 "nbformat": 4,
 "nbformat_minor": 5
}
